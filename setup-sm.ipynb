{
 "cells": [
  {
   "cell_type": "markdown",
   "id": "a8ebd30f",
   "metadata": {},
   "source": [
    "### Set up AWS Panorama development environment on SageMaker Notebook\n",
    "\n",
    "This notebook installs dependencies required for AWS Panorama application development. Run following cells just once, before starting labs."
   ]
  },
  {
   "cell_type": "code",
   "execution_count": null,
   "id": "a49a343e",
   "metadata": {},
   "outputs": [],
   "source": [
    "%pip install panoramacli\n",
    "%pip install mxnet\n",
    "%pip install gluoncv"
   ]
  },
  {
   "cell_type": "code",
   "execution_count": null,
   "id": "58ad912d",
   "metadata": {
    "scrolled": true
   },
   "outputs": [],
   "source": [
    "!./scripts/install-docker.sh"
   ]
  },
  {
   "cell_type": "code",
   "execution_count": null,
   "id": "38ceb797",
   "metadata": {
    "scrolled": true
   },
   "outputs": [],
   "source": [
    "# for CPU build\n",
    "!./scripts/install-dlr.sh\n",
    "\n",
    "# for p2/p3/g4 instance, we could use pre-built package to skip long building time\n",
    "#%pip install https://neo-ai-dlr-release.s3-us-west-2.amazonaws.com/v1.10.0/gpu/dlr-1.10.0-py3-none-any.whl\n"
   ]
  },
  {
   "cell_type": "code",
   "execution_count": null,
   "id": "339ab323",
   "metadata": {},
   "outputs": [],
   "source": [
    "!./scripts/install-glibc-sm.sh"
   ]
  },
  {
   "cell_type": "code",
   "execution_count": null,
   "id": "14d2af23",
   "metadata": {},
   "outputs": [],
   "source": [
    "!./scripts/create-opt-aws-panorama.sh"
   ]
  },
  {
   "cell_type": "code",
   "execution_count": null,
   "id": "91c0a253",
   "metadata": {},
   "outputs": [],
   "source": [
    "!./scripts/install-videos.sh"
   ]
  },
  {
   "cell_type": "markdown",
   "id": "1c32d255",
   "metadata": {},
   "source": [
    "#### Environment setting up has completed\n",
    "\n",
    "Open a notebooks under \"labs/\"."
   ]
  },
  {
   "cell_type": "code",
   "execution_count": null,
   "id": "577a03c5",
   "metadata": {},
   "outputs": [],
   "source": []
  }
 ],
 "metadata": {
  "kernelspec": {
   "display_name": "conda_python3",
   "language": "python",
   "name": "conda_python3"
  },
  "language_info": {
   "codemirror_mode": {
    "name": "ipython",
    "version": 3
   },
   "file_extension": ".py",
   "mimetype": "text/x-python",
   "name": "python",
   "nbconvert_exporter": "python",
   "pygments_lexer": "ipython3",
   "version": "3.6.13"
  }
 },
 "nbformat": 4,
 "nbformat_minor": 5
}
