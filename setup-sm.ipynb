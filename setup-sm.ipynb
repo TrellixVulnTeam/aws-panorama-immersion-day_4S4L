{
 "cells": [
  {
   "cell_type": "markdown",
   "id": "7dc9126c",
   "metadata": {},
   "source": [
    "### Set up AWS Panorama development environment on SageMaker Notebook\n",
    "\n",
    "This notebook installs dependencies required for AWS Panorama application development. Run following cells just once, before starting labs."
   ]
  },
  {
   "cell_type": "code",
   "execution_count": null,
   "id": "686d1134",
   "metadata": {},
   "outputs": [],
   "source": [
    "%pip install panoramacli\n",
    "%pip install mxnet\n",
    "%pip install gluoncv"
   ]
  },
  {
   "cell_type": "code",
   "execution_count": null,
   "id": "dd5a4dcb",
   "metadata": {
    "scrolled": true
   },
   "outputs": [],
   "source": [
    "!./scripts/install-docker.sh"
   ]
  },
  {
   "cell_type": "code",
   "execution_count": null,
   "id": "f48fb543",
   "metadata": {
    "scrolled": true
   },
   "outputs": [],
   "source": [
    "# for CPU build\n",
    "!./scripts/install-dlr.sh\n",
    "\n",
    "# for p2/p3/g4 instance, we could use pre-built package to skip long building time\n",
    "#%pip install https://neo-ai-dlr-release.s3-us-west-2.amazonaws.com/v1.10.0/gpu/dlr-1.10.0-py3-none-any.whl\n"
   ]
  },
  {
   "cell_type": "code",
   "execution_count": null,
   "id": "5d7e4ec4",
   "metadata": {},
   "outputs": [],
   "source": [
    "!./scripts/install-glibc-sm.sh"
   ]
  },
  {
   "cell_type": "code",
   "execution_count": null,
   "id": "6a3ef4f6",
   "metadata": {},
   "outputs": [],
   "source": [
    "!./scripts/create-opt-aws-panorama.sh"
   ]
  },
  {
   "cell_type": "code",
   "execution_count": 1,
   "id": "f021fbdf",
   "metadata": {},
   "outputs": [
    {
     "name": "stdout",
     "output_type": "stream",
     "text": [
      "--2022-03-10 21:26:24--  https://panorama-starter-kit.s3.amazonaws.com/public/v2/Models/sample-videos.zip\n",
      "Resolving panorama-starter-kit.s3.amazonaws.com (panorama-starter-kit.s3.amazonaws.com)... 52.217.135.65\n",
      "Connecting to panorama-starter-kit.s3.amazonaws.com (panorama-starter-kit.s3.amazonaws.com)|52.217.135.65|:443... connected.\n",
      "HTTP request sent, awaiting response... 200 OK\n",
      "Length: 182123424 (174M) [application/zip]\n",
      "Saving to: ‘sample-videos.zip’\n",
      "\n",
      "100%[======================================>] 182,123,424 65.1MB/s   in 2.7s   \n",
      "\n",
      "2022-03-10 21:26:27 (65.1 MB/s) - ‘sample-videos.zip’ saved [182123424/182123424]\n",
      "\n",
      "Archive:  sample-videos.zip\n",
      "   creating: videos/\n",
      "  inflating: videos/Car-in-the-mist_coverr.mp4  \n",
      "  inflating: videos/mountain.mp4     \n",
      "  inflating: videos/pokemon.avi      \n",
      "  inflating: videos/TimesSquareStationsign_coverr.mp4  \n",
      "  inflating: videos/TownCentreXVID.avi  \n"
     ]
    }
   ],
   "source": [
    "!./scripts/install-videos.sh"
   ]
  },
  {
   "cell_type": "markdown",
   "id": "45749c0c",
   "metadata": {},
   "source": [
    "#### Environment setting up has completed\n",
    "\n",
    "Open a notebooks under xyz."
   ]
  },
  {
   "cell_type": "code",
   "execution_count": null,
   "id": "06688d86",
   "metadata": {},
   "outputs": [],
   "source": []
  }
 ],
 "metadata": {
  "kernelspec": {
   "display_name": "conda_python3",
   "language": "python",
   "name": "conda_python3"
  },
  "language_info": {
   "codemirror_mode": {
    "name": "ipython",
    "version": 3
   },
   "file_extension": ".py",
   "mimetype": "text/x-python",
   "name": "python",
   "nbconvert_exporter": "python",
   "pygments_lexer": "ipython3",
   "version": "3.6.13"
  }
 },
 "nbformat": 4,
 "nbformat_minor": 5
}
