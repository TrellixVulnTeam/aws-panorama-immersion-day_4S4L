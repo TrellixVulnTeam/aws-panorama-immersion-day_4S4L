{
 "cells": [
  {
   "cell_type": "markdown",
   "id": "664c9205",
   "metadata": {},
   "source": [
    "### Set up AWS Panorama development environment on SageMaker Notebook\n",
    "\n",
    "This notebook installs dependencies required for AWS Panorama application development. Run following cells just once, before starting labs."
   ]
  },
  {
   "cell_type": "code",
   "execution_count": null,
   "id": "4d6fea6e",
   "metadata": {},
   "outputs": [],
   "source": [
    "%pip install panoramacli\n",
    "%pip install mxnet\n",
    "%pip install gluoncv"
   ]
  },
  {
   "cell_type": "code",
   "execution_count": null,
   "id": "c3f28824",
   "metadata": {
    "scrolled": true
   },
   "outputs": [],
   "source": [
    "!./scripts/install-docker.sh"
   ]
  },
  {
   "cell_type": "code",
   "execution_count": null,
   "id": "e1edddb5",
   "metadata": {
    "scrolled": true
   },
   "outputs": [],
   "source": [
    "# for CPU build\n",
    "!./scripts/install-dlr.sh\n",
    "\n",
    "# for p2/p3/g4 instance, we could use pre-built package to skip long building time\n",
    "#%pip install https://neo-ai-dlr-release.s3-us-west-2.amazonaws.com/v1.10.0/gpu/dlr-1.10.0-py3-none-any.whl\n"
   ]
  },
  {
   "cell_type": "code",
   "execution_count": null,
   "id": "ffe544cf",
   "metadata": {},
   "outputs": [],
   "source": [
    "!./scripts/install-glibc-sm.sh"
   ]
  },
  {
   "cell_type": "code",
   "execution_count": null,
   "id": "081bee0b",
   "metadata": {},
   "outputs": [],
   "source": [
    "!./scripts/create-opt-aws-panorama.sh"
   ]
  },
  {
   "cell_type": "code",
   "execution_count": null,
   "id": "dc62e9be",
   "metadata": {},
   "outputs": [],
   "source": [
    "!./scripts/install-samples-sm.sh"
   ]
  },
  {
   "cell_type": "markdown",
   "id": "7eca04d3",
   "metadata": {},
   "source": [
    "#### Environment setting up has completed\n",
    "\n",
    "Open a notebooks under xyz."
   ]
  },
  {
   "cell_type": "code",
   "execution_count": null,
   "id": "b62def55",
   "metadata": {},
   "outputs": [],
   "source": []
  }
 ],
 "metadata": {
  "kernelspec": {
   "display_name": "conda_python3",
   "language": "python",
   "name": "conda_python3"
  },
  "language_info": {
   "codemirror_mode": {
    "name": "ipython",
    "version": 3
   },
   "file_extension": ".py",
   "mimetype": "text/x-python",
   "name": "python",
   "nbconvert_exporter": "python",
   "pygments_lexer": "ipython3",
   "version": "3.6.13"
  }
 },
 "nbformat": 4,
 "nbformat_minor": 5
}
