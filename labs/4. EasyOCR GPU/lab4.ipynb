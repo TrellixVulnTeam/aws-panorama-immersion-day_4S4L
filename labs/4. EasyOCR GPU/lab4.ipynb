{
 "cells": [
  {
   "cell_type": "markdown",
   "id": "cffd59b9",
   "metadata": {},
   "source": [
    "# EasyOCR Sample Application\n"
   ]
  },
  {
   "cell_type": "markdown",
   "id": "8a2a3ae2",
   "metadata": {},
   "source": [
    "# Prerequisites (DO NOT SKIP)"
   ]
  },
  {
   "cell_type": "markdown",
   "id": "9aaddd01",
   "metadata": {},
   "source": [
    "1. **PLEASE READ THE [README](README.md) INCLUDE WITH THIS BEFORE YOU START USING THIS NOTEBOOK**"
   ]
  },
  {
   "cell_type": "markdown",
   "id": "b1c2f6f8",
   "metadata": {},
   "source": [
    "# Set up"
   ]
  },
  {
   "cell_type": "markdown",
   "id": "352b4749",
   "metadata": {},
   "source": [
    "Import libraries for use with this notebook environment, you do not need these libraries when you write your application code."
   ]
  },
  {
   "cell_type": "code",
   "execution_count": null,
   "id": "1183276e",
   "metadata": {},
   "outputs": [],
   "source": [
    "import sys\n",
    "import os\n",
    "import time\n",
    "import json\n",
    "\n",
    "import boto3\n",
    "import sagemaker\n",
    "\n",
    "import matplotlib.pyplot as plt\n",
    "from IPython.core.magic import register_cell_magic\n",
    "\n",
    "sys.path.insert( 0, os.path.abspath( \"../common/test_utility\" ) )\n",
    "import panorama_test_utility\n",
    "\n",
    "# instantiate boto3 clients\n",
    "s3_client = boto3.client('s3')\n",
    "panorama_client = boto3.client('panorama', region_name = 'us-west-2')\n",
    "\n",
    "# configure matplotlib\n",
    "%matplotlib inline\n",
    "plt.rcParams[\"figure.figsize\"] = (20,20)\n",
    "\n",
    "# register custom magic command\n",
    "@register_cell_magic\n",
    "def save_cell(line, cell):\n",
    "    'Save python code block to a file'\n",
    "    with open(line, 'wt') as fd:\n",
    "        fd.write(cell)"
   ]
  },
  {
   "cell_type": "markdown",
   "id": "00f12da5",
   "metadata": {
    "tags": []
   },
   "source": [
    "## Notebook parameters\n",
    "Global constants that help the notebook create Panorama resources on your behalf."
   ]
  },
  {
   "cell_type": "code",
   "execution_count": null,
   "id": "82721929",
   "metadata": {
    "tags": []
   },
   "outputs": [],
   "source": [
    "# application name\n",
    "app_name = 'lab4'\n",
    "\n",
    "## package names and node names\n",
    "code_package_name = 'lab4'\n",
    "camera_node_name = 'abstract_rtsp_media_source'\n",
    "\n",
    "# AWS account ID\n",
    "account_id = boto3.client(\"sts\").get_caller_identity()[\"Account\"]"
   ]
  },
  {
   "cell_type": "markdown",
   "id": "d1034c1e",
   "metadata": {},
   "source": [
    "## Set up application\n",
    "\n",
    "Every application uses the creator's AWS Account ID as the prefix to uniquely identifies the application resources. Running `panorama-cli import-application` replaces the generic account Id with your account Id."
   ]
  },
  {
   "cell_type": "code",
   "execution_count": null,
   "id": "96ef4328",
   "metadata": {},
   "outputs": [],
   "source": [
    "!cd ./lab4 && panorama-cli import-application"
   ]
  },
  {
   "cell_type": "markdown",
   "id": "36dd2241-a253-4651-af60-b3f8fbe2a92d",
   "metadata": {},
   "source": [
    "## Download Depedencies and Artifacts (One Time Download)"
   ]
  },
  {
   "cell_type": "code",
   "execution_count": null,
   "id": "23c125d8-9cc2-48d8-a1bc-b947c1725eba",
   "metadata": {},
   "outputs": [],
   "source": [
    "panorama_test_utility.download_artifacts_gpu_sample('lab4', account_id)"
   ]
  },
  {
   "cell_type": "markdown",
   "id": "4df1a26a-e84b-48f3-a2c6-b289a5a0b4d1",
   "metadata": {
    "tags": []
   },
   "source": [
    "## Update camera streams\n",
    "\n",
    "In the AWS Panorama console, you can select the camera streams, but programmatically, you need to define the camera stream info for the cameras you are using with the app.\n",
    "\n",
    "We used an ```abstract data source``` here, usually this lets you select the pre-created camera source from the console. But programatically, we have to do the following steps\n",
    "\n",
    "\n",
    "- Create Camera\n",
    "- Create Override json file\n",
    "- Include the Override json file while are deploying the application"
   ]
  },
  {
   "cell_type": "markdown",
   "id": "c217bb6c-a15f-4ec8-b00b-b91fca369180",
   "metadata": {},
   "source": [
    "### Create New Camera\n",
    "\n",
    "Because we are using an ```abstract_rtsp_media_source```, we have to create a camera before we can use the ```abstract_rtsp_media_source```\n",
    "\n",
    "**NOTE** : Update your RTSP Info in the next cell, Username, Password and RTSP Stream URL"
   ]
  },
  {
   "cell_type": "code",
   "execution_count": null,
   "id": "e808c80f-6778-4e7c-a906-e02f2a3a4909",
   "metadata": {},
   "outputs": [],
   "source": [
    "CAMERA_NAME = \"lab4_cam\"\n",
    "\n",
    "CAMERA_CREDS = '{\"Username\":\"root\",\"Password\":\"Aws2017!\",\"StreamUrl\": \"rtsp://10.92.202.65/onvif-media/media.amp?profile=profile_1_h264&sessiontimeout=60&streamtype=unicast\"}'"
   ]
  },
  {
   "cell_type": "code",
   "execution_count": null,
   "id": "53af9488-5e7c-4bb9-ba65-feaf06be8a4e",
   "metadata": {},
   "outputs": [],
   "source": [
    "res = !aws panorama create-node-from-template-job --template-type RTSP_CAMERA_STREAM \\\n",
    "    --output-package-name {CAMERA_NAME} \\\n",
    "    --output-package-version '3.0' \\\n",
    "    --node-name {CAMERA_NAME} \\\n",
    "    --template-parameters '{CAMERA_CREDS}'\n",
    "\n",
    "# FIXME : camera node creation fails if it already exists.\n",
    "# Should either ignore the already-exist error, or delete the node at the end of this notebook\n",
    "\n",
    "res = ''.join(res)\n",
    "print(res)\n",
    "res_json = json.loads(res)"
   ]
  },
  {
   "cell_type": "code",
   "execution_count": null,
   "id": "b94dc937-f62a-49a1-ae86-315b9a0c3266",
   "metadata": {},
   "outputs": [],
   "source": [
    "!aws panorama describe-node-from-template-job --job-id {res_json['JobId']}"
   ]
  },
  {
   "cell_type": "markdown",
   "id": "62921b7b-0669-45cb-b0b3-18087fc9be82",
   "metadata": {},
   "source": [
    "## Overriding camera node"
   ]
  },
  {
   "cell_type": "markdown",
   "id": "672873ea",
   "metadata": {},
   "source": [
    "If you want to override the camera configuration at deployment (for ex. deploy to another site) you can provide a deployment time override. Go to `people_counter_app/deployment_overrides/override_camera.json` file and replace YOUR_AWS_ACCOUNT_ID with your ACCOUNT_ID and YOUR_CAMERA_NAME with your camera name."
   ]
  },
  {
   "cell_type": "code",
   "execution_count": null,
   "id": "36e9c66f-3f32-4984-b5d8-be69251f022b",
   "metadata": {},
   "outputs": [],
   "source": [
    "# Update Account ID\n",
    "with open( f\"./{app_name}/deployment_overrides/override_camera.json\", \"r\" ) as fd:\n",
    "    override_json = json.load(fd)\n",
    "\n",
    "override_json['nodeGraphOverrides']['packages'][0]['name'] = '{}::{}'.format(account_id, CAMERA_NAME)\n",
    "override_json['nodeGraphOverrides']['nodes'][0]['name'] = CAMERA_NAME\n",
    "override_json['nodeGraphOverrides']['nodes'][0]['interface'] = '{}::{}.{}'.format(account_id, CAMERA_NAME, CAMERA_NAME)    \n",
    "override_json['nodeGraphOverrides']['nodeOverrides'][0]['with'][0]['name'] = CAMERA_NAME    \n",
    "\n",
    "with open( f\"./{app_name}/deployment_overrides/override_camera.json\", \"w\") as fd:\n",
    "    json.dump(override_json, fd)"
   ]
  },
  {
   "cell_type": "markdown",
   "id": "f017081e",
   "metadata": {},
   "source": [
    "### Upload application to Panorama for deploying to devices"
   ]
  },
  {
   "cell_type": "code",
   "execution_count": null,
   "id": "afc63216",
   "metadata": {},
   "outputs": [],
   "source": [
    "container_asset_name = 'lab4'"
   ]
  },
  {
   "cell_type": "code",
   "execution_count": null,
   "id": "e8bc1f3b",
   "metadata": {},
   "outputs": [],
   "source": [
    "# This step takes some time, depending on your network environment.\n",
    "\n",
    "!cd ./lab4 && pwd && panorama-cli package-application"
   ]
  },
  {
   "cell_type": "markdown",
   "id": "4a6794d7",
   "metadata": {},
   "source": [
    "### Ready for deploying to a device\n",
    "\n",
    "Congrats! Your app is now ready to deploy to a device. Next, you can continue in this notebook to deploy the app programmatically or you can go to the Panorama console and deploying using the AWS Console. The console makes it easier to select camera streams and select the devices you want to deploy to. Programmatic deployment is faster to complete and easier to automate."
   ]
  },
  {
   "cell_type": "markdown",
   "id": "b59f04c5",
   "metadata": {},
   "source": [
    "Let's make sure the device we are deploying to is available."
   ]
  },
  {
   "cell_type": "markdown",
   "id": "a09b151f",
   "metadata": {},
   "source": [
    "### Ready for deploying to a device\n",
    "\n",
    "Congrats! Your app is now ready to deploy to a device. Next, you can continue in this notebook to deploy the app programmatically or you can go to the Panorama console and deploying using the AWS Console. The console makes it easier to select camera streams and select the devices you want to deploy to. Programmatic deployment is faster to complete and easier to automate."
   ]
  },
  {
   "cell_type": "markdown",
   "id": "1a3b7393-3cef-4c67-b940-9ea6baf2fa13",
   "metadata": {},
   "source": [
    "### How to deploy to device?"
   ]
  },
  {
   "cell_type": "markdown",
   "id": "2d9a0fc9-3fc9-4fc8-825f-992d708425f0",
   "metadata": {},
   "source": [
    "The [README](README.md) file has detailed instructions on how to deploy. Please go to the deployment section of the README file and follow along the instructions"
   ]
  }
 ],
 "metadata": {
  "kernelspec": {
   "display_name": "Python 3",
   "language": "python",
   "name": "python3"
  },
  "language_info": {
   "codemirror_mode": {
    "name": "ipython",
    "version": 3
   },
   "file_extension": ".py",
   "mimetype": "text/x-python",
   "name": "python",
   "nbconvert_exporter": "python",
   "pygments_lexer": "ipython3",
   "version": "3.6.9"
  }
 },
 "nbformat": 4,
 "nbformat_minor": 5
}
