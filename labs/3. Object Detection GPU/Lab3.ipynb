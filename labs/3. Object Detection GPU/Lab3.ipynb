{
 "cells": [
  {
   "cell_type": "markdown",
   "id": "4e136e6b",
   "metadata": {},
   "source": [
    "# TensorRT YoloV5s Sample Application\n"
   ]
  },
  {
   "cell_type": "markdown",
   "id": "6c1fb2fe",
   "metadata": {},
   "source": [
    "--- \n",
    "\n",
    "1. [Prerequisites](#Prerequisites)\n",
    "1. [Set up](#Set-up)\n",
    "1. [Import model](#Import-model)\n",
    "1. [Write and test app code](#Write-and-test-app-code-in-notebook)\n",
    "1. [Package app](#Package-app)\n",
    "1. [Deploy app to device](#Deploy-app-to-device)"
   ]
  },
  {
   "cell_type": "markdown",
   "id": "4a238dd9",
   "metadata": {
    "tags": []
   },
   "source": [
    "# Prerequisites (DO NOT SKIP)"
   ]
  },
  {
   "cell_type": "markdown",
   "id": "fd0bc9cd",
   "metadata": {},
   "source": [
    "1. **PLEASE READ THE [README](README.md) INCLUDE WITH THIS BEFORE YOU START USING THIS NOTEBOOK**"
   ]
  },
  {
   "cell_type": "markdown",
   "id": "457bb552",
   "metadata": {
    "tags": []
   },
   "source": [
    "# Set up"
   ]
  },
  {
   "cell_type": "markdown",
   "id": "8bd422e1",
   "metadata": {},
   "source": [
    "Import libraries for use with this notebook environment, you do not need these libraries when you write your application code."
   ]
  },
  {
   "cell_type": "code",
   "execution_count": null,
   "id": "df9b2d8c",
   "metadata": {},
   "outputs": [],
   "source": [
    "import sys\n",
    "import os\n",
    "import time\n",
    "import json\n",
    "\n",
    "import boto3\n",
    "import sagemaker\n",
    "\n",
    "import matplotlib.pyplot as plt\n",
    "from IPython.core.magic import register_cell_magic\n",
    "\n",
    "sys.path.insert( 0, os.path.abspath( \"../common/test_utility\" ) )\n",
    "import panorama_test_utility\n",
    "\n",
    "# instantiate boto3 clients\n",
    "s3_client = boto3.client('s3')\n",
    "panorama_client = boto3.client('panorama', region_name = 'us-west-2')"
   ]
  },
  {
   "cell_type": "markdown",
   "id": "c8225c0b",
   "metadata": {
    "tags": []
   },
   "source": [
    "## Notebook parameters\n",
    "Global constants that help the notebook create Panorama resources on your behalf."
   ]
  },
  {
   "cell_type": "code",
   "execution_count": null,
   "id": "d6d19df8",
   "metadata": {
    "tags": []
   },
   "outputs": [],
   "source": [
    "# application name\n",
    "app_name = 'lab3'\n",
    "\n",
    "## package names and node names\n",
    "code_package_name = 'lab3'\n",
    "camera_node_name = 'abstract_rtsp_media_source'\n",
    "\n",
    "# AWS account ID\n",
    "account_id = boto3.client(\"sts\").get_caller_identity()[\"Account\"]"
   ]
  },
  {
   "cell_type": "markdown",
   "id": "e4b52bea",
   "metadata": {},
   "source": [
    "## Set up application\n",
    "\n",
    "Every application uses the creator's AWS Account ID as the prefix to uniquely identifies the application resources. Running `panorama-cli import-application` replaces the generic account Id with your account Id."
   ]
  },
  {
   "cell_type": "code",
   "execution_count": null,
   "id": "1159db0b",
   "metadata": {},
   "outputs": [],
   "source": [
    "!cd ./lab3 && panorama-cli import-application"
   ]
  },
  {
   "cell_type": "markdown",
   "id": "12f0ef89",
   "metadata": {},
   "source": [
    "## Download Depedencies and Artifacts (One Time Download)"
   ]
  },
  {
   "cell_type": "code",
   "execution_count": null,
   "id": "a39811ab",
   "metadata": {},
   "outputs": [],
   "source": [
    "panorama_test_utility.download_artifacts_gpu_sample('lab3', account_id)"
   ]
  },
  {
   "cell_type": "markdown",
   "id": "bb4f6adc",
   "metadata": {
    "tags": []
   },
   "source": [
    "## Update camera streams\n",
    "\n",
    "In the AWS Panorama console, you can select the camera streams, but programmatically, you need to define the camera stream info for the cameras you are using with the app.\n",
    "\n",
    "We used an ```abstract data source``` here, usually this lets you select the pre-created camera source from the console. But programatically, we have to do the following steps\n",
    "\n",
    "\n",
    "- Create Camera\n",
    "- Create Override json file\n",
    "- Include the Override json file while are deploying the application"
   ]
  },
  {
   "cell_type": "markdown",
   "id": "50574cfa",
   "metadata": {},
   "source": [
    "### Create New Camera\n",
    "\n",
    "Because we are using an ```abstract_rtsp_media_source```, we have to create a camera before we can use the ```abstract_rtsp_media_source```\n",
    "\n",
    "**NOTE** : Update your RTSP Info in the next cell, Username, Password and RTSP Stream URL"
   ]
  },
  {
   "cell_type": "code",
   "execution_count": null,
   "id": "6829b8a4",
   "metadata": {},
   "outputs": [],
   "source": [
    "CAMERA_NAME = \"test_rtsp_camera_lab3\"\n",
    "\n",
    "CAMERA_CREDS = '{\"Username\":\"root\",\"Password\":\"Aws2017!\",\"StreamUrl\": \"rtsp://10.92.202.65/onvif-media/media.amp?profile=profile_1_h264&sessiontimeout=60&streamtype=unicast\"}'"
   ]
  },
  {
   "cell_type": "code",
   "execution_count": null,
   "id": "cdc9f1db",
   "metadata": {},
   "outputs": [],
   "source": [
    "res = !aws panorama create-node-from-template-job --template-type RTSP_CAMERA_STREAM \\\n",
    "    --output-package-name {CAMERA_NAME} \\\n",
    "    --output-package-version '1.0' \\\n",
    "    --node-name {CAMERA_NAME} \\\n",
    "    --template-parameters '{CAMERA_CREDS}'\n",
    "\n",
    "# FIXME : camera node creation fails if it already exists.\n",
    "# Should either ignore the already-exist error, or delete the node at the end of this notebook\n",
    "\n",
    "res = ''.join(res)\n",
    "print(res)\n",
    "res_json = json.loads(res)"
   ]
  },
  {
   "cell_type": "code",
   "execution_count": null,
   "id": "b8c30da0",
   "metadata": {},
   "outputs": [],
   "source": [
    "!aws panorama describe-node-from-template-job --job-id {res_json['JobId']}"
   ]
  },
  {
   "cell_type": "markdown",
   "id": "d0742bd9",
   "metadata": {},
   "source": [
    "### Upload application to Panorama for deploying to devices"
   ]
  },
  {
   "cell_type": "code",
   "execution_count": null,
   "id": "bd094bc8",
   "metadata": {},
   "outputs": [],
   "source": [
    "container_asset_name = 'lab3'"
   ]
  },
  {
   "cell_type": "code",
   "execution_count": null,
   "id": "1556b97d",
   "metadata": {},
   "outputs": [],
   "source": [
    "# This step takes some time, depending on your network environment.\n",
    "!cd ./lab3 && pwd && panorama-cli package-application"
   ]
  },
  {
   "cell_type": "markdown",
   "id": "bb6974a4",
   "metadata": {},
   "source": [
    "### Ready for deploying to a device\n",
    "\n",
    "Congrats! Your app is now ready to deploy to a device. Next, you can continue in this notebook to deploy the app programmatically or you can go to the Panorama console and deploying using the AWS Console. The console makes it easier to select camera streams and select the devices you want to deploy to. Programmatic deployment is faster to complete and easier to automate."
   ]
  },
  {
   "cell_type": "markdown",
   "id": "bd7bc315",
   "metadata": {},
   "source": [
    "### How to deploy to the device?"
   ]
  },
  {
   "cell_type": "markdown",
   "id": "3af08a01",
   "metadata": {},
   "source": [
    "The [README](README.md) file has detailed instructions on how to deploy. Please go to the deployment section of the README file and follow along the instructions"
   ]
  }
 ],
 "metadata": {
  "kernelspec": {
   "display_name": "conda_python3",
   "language": "python",
   "name": "conda_python3"
  },
  "language_info": {
   "codemirror_mode": {
    "name": "ipython",
    "version": 3
   },
   "file_extension": ".py",
   "mimetype": "text/x-python",
   "name": "python",
   "nbconvert_exporter": "python",
   "pygments_lexer": "ipython3",
   "version": "3.8.12"
  }
 },
 "nbformat": 4,
 "nbformat_minor": 5
}
