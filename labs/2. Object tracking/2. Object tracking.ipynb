{
 "cells": [
  {
   "cell_type": "markdown",
   "id": "3afa8ec6",
   "metadata": {},
   "source": [
    "## Lab 2. Object tracking\n",
    "\n",
    "what this sample explains.\n",
    "\n",
    "* import existing app\n",
    "* how to implement object tracking layer on top of object detection\n",
    "* deploy programmatically"
   ]
  },
  {
   "cell_type": "markdown",
   "id": "7f331b72",
   "metadata": {},
   "source": [
    "## Preparation"
   ]
  },
  {
   "cell_type": "code",
   "execution_count": null,
   "id": "cd8d194f",
   "metadata": {},
   "outputs": [],
   "source": [
    "# Import libraries\n",
    "\n",
    "import sys\n",
    "import os\n",
    "import time\n",
    "import json\n",
    "import glob\n",
    "import tarfile\n",
    "\n",
    "import boto3\n",
    "import sagemaker\n",
    "import IPython\n",
    "import gluoncv\n",
    "\n",
    "sys.path.insert( 0, os.path.abspath( \"../common/test_utility\" ) )\n",
    "import panorama_test_utility"
   ]
  },
  {
   "cell_type": "code",
   "execution_count": null,
   "id": "1376fa3d",
   "metadata": {},
   "outputs": [],
   "source": [
    "# Initialize variables and configurations\n",
    "\n",
    "boto3_session = boto3.session.Session()\n",
    "sm_session = sagemaker.Session()\n",
    "\n",
    "account_id = boto3.client(\"sts\").get_caller_identity()[\"Account\"]\n",
    "region = boto3_session.region_name\n",
    "s3_bucket = sm_session.default_bucket()\n",
    "sm_role = sagemaker.get_execution_role()\n",
    "\n",
    "print( \"account_id :\", account_id )\n",
    "print( \"region :\", region )\n",
    "print( \"s3_bucket :\", s3_bucket )\n",
    "print( \"sm_role :\", sm_role )"
   ]
  },
  {
   "cell_type": "code",
   "execution_count": null,
   "id": "07b965f7",
   "metadata": {},
   "outputs": [],
   "source": [
    "# FIXME : revert account IDs in project files to placeholder\n",
    "\n",
    "%run ./internal/revert.py"
   ]
  },
  {
   "cell_type": "markdown",
   "id": "b5c54d95",
   "metadata": {},
   "source": [
    "## Start with \"People detection\" application"
   ]
  },
  {
   "cell_type": "code",
   "execution_count": null,
   "id": "59b171ed",
   "metadata": {},
   "outputs": [],
   "source": [
    "app_name = \"lab2\"\n",
    "\n",
    "!cd {app_name} && panorama-cli import-application"
   ]
  },
  {
   "cell_type": "code",
   "execution_count": null,
   "id": "791a2aa5",
   "metadata": {},
   "outputs": [],
   "source": [
    "code_package_name = f\"{app_name}_code\"\n",
    "code_package_version = \"1.0\"\n",
    "source_filename = f\"./lab2/packages/{account_id}-{code_package_name}-{code_package_version}/src/app.py\""
   ]
  },
  {
   "cell_type": "code",
   "execution_count": null,
   "id": "b3b1ddc9",
   "metadata": {},
   "outputs": [],
   "source": [
    "def export_model_and_create_targz( prefix, name, model ):\n",
    "    os.makedirs( prefix, exist_ok=True )\n",
    "    gluoncv.utils.export_block( os.path.join( prefix, name ), model, preprocess=False, layout=\"CHW\" )\n",
    "\n",
    "    tar_gz_filename = f\"{prefix}/{name}.tar.gz\"\n",
    "    with tarfile.open( tar_gz_filename, \"w:gz\" ) as tgz:\n",
    "        tgz.add( f\"{prefix}/{name}-symbol.json\", f\"{name}-symbol.json\" )\n",
    "        tgz.add( f\"{prefix}/{name}-0000.params\", f\"{name}-0000.params\" )\n",
    "        \n",
    "    print( f\"Exported : {tar_gz_filename}\" )\n",
    "    \n",
    "# Export object detection model. Reset the classes for human detection only.\n",
    "people_detection_model = gluoncv.model_zoo.get_model('yolo3_mobilenet1.0_coco', pretrained=True)\n",
    "people_detection_model.reset_class([\"person\"], reuse_weights=['person'])\n",
    "export_model_and_create_targz( \"models\", \"yolo3_mobilenet1.0_coco_person\", people_detection_model )"
   ]
  },
  {
   "cell_type": "code",
   "execution_count": null,
   "id": "02d02b94",
   "metadata": {},
   "outputs": [],
   "source": [
    "model_package_name = f\"{app_name}_model\"\n",
    "model_package_version = \"1.0\"\n",
    "people_detection_model_name = \"people_detection_model\"\n",
    "\n",
    "!cd {app_name} && panorama-cli add-raw-model \\\n",
    "    --model-asset-name {people_detection_model_name} \\\n",
    "    --model-local-path ../models/yolo3_mobilenet1.0_coco_person.tar.gz \\\n",
    "    --descriptor-path packages/{account_id}-{model_package_name}-{model_package_version}/descriptor.json \\\n",
    "    --packages-path packages/{account_id}-{model_package_name}-{model_package_version}"
   ]
  },
  {
   "cell_type": "code",
   "execution_count": null,
   "id": "1c61c946",
   "metadata": {},
   "outputs": [],
   "source": [
    "people_detection_model_data_shape = '{\"data\":[1,3,480,600]}'\n",
    "\n",
    "%run ../common/test_utility/panorama_test_utility_compile.py \\\n",
    "\\\n",
    "--s3-model-location s3://{s3_bucket}/panorama-workshop/{app_name} \\\n",
    "\\\n",
    "--model-node-name {people_detection_model_name} \\\n",
    "--model-file-basename ./models/yolo3_mobilenet1.0_coco_person \\\n",
    "--model-data-shape '{people_detection_model_data_shape}' \\\n",
    "--model-framework MXNET"
   ]
  },
  {
   "cell_type": "code",
   "execution_count": null,
   "id": "f08070b2",
   "metadata": {},
   "outputs": [],
   "source": [
    "video_filepath = \"../../videos/TownCentreXVID.avi\"\n",
    "\n",
    "%run ../common/test_utility/panorama_test_utility_run.py \\\n",
    "\\\n",
    "--app-name {app_name} \\\n",
    "--code-package-name {code_package_name} \\\n",
    "--py-file {source_filename} \\\n",
    "\\\n",
    "--model-package-name {model_package_name} \\\n",
    "--model-node-name {people_detection_model_name} \\\n",
    "--model-file-basename ./models/yolo3_mobilenet1.0_coco_person \\\n",
    "\\\n",
    "--camera-node-name lab2_camera \\\n",
    "\\\n",
    "--video-file {video_filepath} \\\n",
    "--video-start 0 \\\n",
    "--video-stop 10 \\\n",
    "--video-step 1 \\\n",
    "\\\n",
    "--output-screenshots ./screenshots/%Y%m%d_%H%M%S"
   ]
  },
  {
   "cell_type": "code",
   "execution_count": null,
   "id": "3e715d8b",
   "metadata": {},
   "outputs": [],
   "source": [
    "# View latest screenshot image\n",
    "\n",
    "latest_screenshot_dirname = sorted( glob.glob( \"./screenshots/*\" ) )[-1]\n",
    "screenshot_filename = sorted( glob.glob( f\"{latest_screenshot_dirname}/*.png\" ) )[-1]\n",
    "\n",
    "print(screenshot_filename)\n",
    "IPython.display.Image( filename = screenshot_filename )"
   ]
  },
  {
   "cell_type": "markdown",
   "id": "783c5479",
   "metadata": {},
   "source": [
    "## Extend to \"People tracking\" application"
   ]
  },
  {
   "cell_type": "markdown",
   "id": "2eeb899c",
   "metadata": {},
   "source": [
    "<div class=\"alert alert-block alert-warning\"><b>Manual edit needed:</b> Manually edit the app.py referring to README.md file.</div>"
   ]
  },
  {
   "cell_type": "code",
   "execution_count": null,
   "id": "7208f92b",
   "metadata": {},
   "outputs": [],
   "source": [
    "video_filepath = \"../../videos/TownCentreXVID.avi\"\n",
    "\n",
    "%run ../common/test_utility/panorama_test_utility_run.py \\\n",
    "\\\n",
    "--app-name {app_name} \\\n",
    "--code-package-name {code_package_name} \\\n",
    "--py-file {source_filename} \\\n",
    "\\\n",
    "--model-package-name {model_package_name} \\\n",
    "--model-node-name {people_detection_model_name} \\\n",
    "--model-file-basename ./models/yolo3_mobilenet1.0_coco_person \\\n",
    "\\\n",
    "--camera-node-name lab2_camera \\\n",
    "\\\n",
    "--video-file {video_filepath} \\\n",
    "--video-start 0 \\\n",
    "--video-stop 10 \\\n",
    "--video-step 1 \\\n",
    "\\\n",
    "--output-screenshots ./screenshots/%Y%m%d_%H%M%S"
   ]
  },
  {
   "cell_type": "code",
   "execution_count": null,
   "id": "a7c83e85",
   "metadata": {},
   "outputs": [],
   "source": [
    "# View latest screenshot image\n",
    "\n",
    "latest_screenshot_dirname = sorted( glob.glob( \"./screenshots/*\" ) )[-1]\n",
    "screenshot_filename = sorted( glob.glob( f\"{latest_screenshot_dirname}/*.png\" ) )[-1]\n",
    "\n",
    "print(screenshot_filename)\n",
    "IPython.display.Image( filename = screenshot_filename )"
   ]
  },
  {
   "cell_type": "markdown",
   "id": "ce69e9bf",
   "metadata": {},
   "source": [
    "## Run the people tracking application on real device"
   ]
  },
  {
   "cell_type": "code",
   "execution_count": null,
   "id": "244c53d7",
   "metadata": {},
   "outputs": [],
   "source": [
    "panorama_client = boto3.client(\"panorama\")"
   ]
  },
  {
   "cell_type": "code",
   "execution_count": null,
   "id": "c08b9cd9",
   "metadata": {},
   "outputs": [],
   "source": [
    "response = panorama_client.list_devices()\n",
    "for device in response[\"Devices\"]:\n",
    "    if device[\"ProvisioningStatus\"]==\"SUCCEEDED\":\n",
    "        break\n",
    "else:\n",
    "    assert False, \"Provisioned device not found.\"\n",
    "\n",
    "device_id = device[\"DeviceId\"]\n",
    "\n",
    "print( \"%s : %s\" % (device[\"Name\"], device[\"DeviceId\"]) )"
   ]
  },
  {
   "cell_type": "markdown",
   "id": "24cb2af9",
   "metadata": {},
   "source": [
    "<div class=\"alert alert-block alert-warning\"><b>Manual operation needed:</b> Look up data source name on the Management Console, referring to README.md file.</div>"
   ]
  },
  {
   "cell_type": "code",
   "execution_count": null,
   "id": "ad8911c1",
   "metadata": {},
   "outputs": [],
   "source": [
    "!cd {app_name} && panorama-cli build-container --container-asset-name code --package-path packages/{account_id}-{code_package_name}-{code_package_version}"
   ]
  },
  {
   "cell_type": "code",
   "execution_count": null,
   "id": "ce608f97",
   "metadata": {},
   "outputs": [],
   "source": [
    "!cd {app_name} && panorama-cli package-application"
   ]
  },
  {
   "cell_type": "markdown",
   "id": "4b338116",
   "metadata": {},
   "source": [
    "<div class=\"alert alert-block alert-warning\"><b>Manual edit needed:</b> Manually edit override manifest file referring to README.md file.</div>\n",
    "\n",
    "Template of override manifest file\n",
    "\n",
    "``` json\n",
    "{\n",
    "    \"nodeGraphOverrides\": {\n",
    "        \"envelopeVersion\": \"2021-01-01\",\n",
    "        \"packages\": [\n",
    "            {\n",
    "                \"name\": \"{YourAwsAccountId}::{YourCameraName}\",\n",
    "                \"version\": \"1.0\"\n",
    "            }\n",
    "        ],\n",
    "        \"nodes\": [\n",
    "            {\n",
    "                \"name\": \"{YourCameraName}_node\",\n",
    "                \"interface\": \"{YourAwsAccountId}::{YourCameraName}.{YourCameraName}\",\n",
    "                \"overridable\": true,\n",
    "                \"overrideMandatory\" : false,\n",
    "                \"launch\" : \"onAppStart\"\n",
    "            }\n",
    "        ],\n",
    "        \"nodeOverrides\": [\n",
    "            {\n",
    "                \"replace\": \"lab2_camera\",\n",
    "                \"with\": [\n",
    "                    {\n",
    "                        \"name\": \"{YourCameraName}_node\"\n",
    "                    }\n",
    "                ]\n",
    "            }\n",
    "        ]\n",
    "    }\n",
    "}\n",
    "```\n"
   ]
  },
  {
   "cell_type": "code",
   "execution_count": null,
   "id": "b5323aea",
   "metadata": {},
   "outputs": [],
   "source": [
    "def get_escaped_payload_from_json(filename):\n",
    "    with open(filename) as fd:\n",
    "        return json.dumps(json.loads(fd.read()))\n",
    "\n",
    "manifest_payload = get_escaped_payload_from_json( f\"./{app_name}/graphs/{app_name}/graph.json\" )\n",
    "override_payload = get_escaped_payload_from_json( f\"./{app_name}/graphs/{app_name}/override.json\" )\n",
    "\n",
    "response = panorama_client.create_application_instance(\n",
    "    Name = app_name,\n",
    "    DefaultRuntimeContextDevice = device_id,\n",
    "    ManifestPayload = {\"PayloadData\":manifest_payload},\n",
    "    ManifestOverridesPayload = {\"PayloadData\":override_payload},\n",
    ")\n",
    "\n",
    "application_instance_id = response[\"ApplicationInstanceId\"]\n",
    "\n",
    "response\n"
   ]
  },
  {
   "cell_type": "code",
   "execution_count": null,
   "id": "a431e16d",
   "metadata": {},
   "outputs": [],
   "source": [
    "def wait_deployment( application_instance_id ):\n",
    "    \n",
    "    progress_dots = panorama_test_utility.ProgressDots()    \n",
    "    while True:\n",
    "        app = panorama_client.describe_application_instance( ApplicationInstanceId = application_instance_id )\n",
    "        progress_dots.update_status( \"%s (%s)\" % (app[\"Status\"], app[\"StatusDescription\"]) )\n",
    "        if app[\"Status\"] not in ( \"DEPLOYMENT_PENDING\", \"DEPLOYMENT_REQUESTED\", \"DEPLOYMENT_IN_PROGRESS\" ):\n",
    "            break\n",
    "        time.sleep(60)\n",
    "\n",
    "wait_deployment( application_instance_id )"
   ]
  },
  {
   "cell_type": "code",
   "execution_count": null,
   "id": "81c2f6cb",
   "metadata": {},
   "outputs": [],
   "source": [
    "logs_url = panorama_test_utility.get_logs_url( region, device_id, application_instance_id )\n",
    "print( \"CloudWatch Logs URL :\" )\n",
    "print( logs_url )"
   ]
  },
  {
   "cell_type": "markdown",
   "id": "dee404d6",
   "metadata": {},
   "source": [
    "<div class=\"alert alert-block alert-warning\"><b>Manual operation needed:</b> Confirm the application is running as expected by visitting the CloudWatch Logs link above and seeing HDMI display.</div>"
   ]
  },
  {
   "cell_type": "code",
   "execution_count": null,
   "id": "4a55666c",
   "metadata": {},
   "outputs": [],
   "source": [
    "panorama_test_utility.remove_application( device_id, application_instance_id )"
   ]
  },
  {
   "cell_type": "code",
   "execution_count": null,
   "id": "7dc973a9",
   "metadata": {},
   "outputs": [],
   "source": []
  }
 ],
 "metadata": {
  "kernelspec": {
   "display_name": "conda_python3",
   "language": "python",
   "name": "conda_python3"
  },
  "language_info": {
   "codemirror_mode": {
    "name": "ipython",
    "version": 3
   },
   "file_extension": ".py",
   "mimetype": "text/x-python",
   "name": "python",
   "nbconvert_exporter": "python",
   "pygments_lexer": "ipython3",
   "version": "3.6.13"
  }
 },
 "nbformat": 4,
 "nbformat_minor": 5
}
