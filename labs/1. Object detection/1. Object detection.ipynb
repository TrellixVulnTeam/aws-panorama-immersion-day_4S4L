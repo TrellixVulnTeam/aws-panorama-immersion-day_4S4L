{
 "cells": [
  {
   "cell_type": "markdown",
   "id": "7399a413",
   "metadata": {},
   "source": [
    "## Overview\n",
    "\n",
    "(drafting)\n",
    "\n",
    "Prerequisites for deployment to real device\n",
    "\n",
    "* Provisioned device\n",
    "* Registered Data source"
   ]
  },
  {
   "cell_type": "markdown",
   "id": "73724190",
   "metadata": {},
   "source": [
    "## Preparation"
   ]
  },
  {
   "cell_type": "code",
   "execution_count": null,
   "id": "ad5c90ff",
   "metadata": {},
   "outputs": [],
   "source": [
    "# Import libraries\n",
    "\n",
    "import sys\n",
    "import os\n",
    "import json\n",
    "import glob\n",
    "import tarfile\n",
    "\n",
    "import boto3\n",
    "import sagemaker\n",
    "import IPython\n",
    "import gluoncv\n",
    "\n",
    "sys.path.insert( 0, os.path.abspath( \"../common/test_utility\" ) )\n",
    "import panorama_test_utility"
   ]
  },
  {
   "cell_type": "code",
   "execution_count": null,
   "id": "db034402",
   "metadata": {},
   "outputs": [],
   "source": [
    "# Initialize variables and configurations\n",
    "\n",
    "boto3_session = boto3.session.Session()\n",
    "sm_session = sagemaker.Session()\n",
    "\n",
    "account_id = boto3.client(\"sts\").get_caller_identity()[\"Account\"]\n",
    "region = boto3_session.region_name\n",
    "s3_bucket = sm_session.default_bucket()\n",
    "sm_role = sagemaker.get_execution_role()\n",
    "\n",
    "print( \"account_id :\", account_id )\n",
    "print( \"region :\", region )\n",
    "print( \"s3_bucket :\", s3_bucket )\n",
    "print( \"sm_role :\", sm_role )"
   ]
  },
  {
   "cell_type": "code",
   "execution_count": null,
   "id": "937f1eee",
   "metadata": {},
   "outputs": [],
   "source": [
    "app_name = \"lab1\"\n",
    "code_package_name = f\"{app_name}_code\"\n",
    "code_package_version = \"1.0\""
   ]
  },
  {
   "cell_type": "markdown",
   "id": "52f93a6f",
   "metadata": {},
   "source": [
    "## Create a simplest Panorama application - \"Hello World!\""
   ]
  },
  {
   "cell_type": "code",
   "execution_count": null,
   "id": "30199e3d",
   "metadata": {},
   "outputs": [],
   "source": [
    "!panorama-cli init-project --name {app_name}"
   ]
  },
  {
   "cell_type": "code",
   "execution_count": null,
   "id": "5d072d83",
   "metadata": {},
   "outputs": [],
   "source": [
    "!cd {app_name} && panorama-cli create-package --name {code_package_name} --type Container --version {code_package_version}"
   ]
  },
  {
   "cell_type": "markdown",
   "id": "eec723f2",
   "metadata": {},
   "source": [
    "<div class=\"alert alert-block alert-warning\"><b>Manual edit needed:</b> create/edit application source code, code package descriptor</div>\n",
    "\n",
    "1. Create a Python source code \"lab1/packages/{account_id}-lab1_code-1.0/src/app.py\" with following single line of code. (See: \"app-v1.py\"):\n",
    "\n",
    "    ```\n",
    "    print(\"Hello World!\")\n",
    "    ```\n",
    "\n",
    "\n",
    "2. Edit \"lab1/packages/{account_id}-lab1_code-1.0/descriptor.json\", and replace <entry_file_name_under_src> with \"app.py\"\n",
    "\n",
    "    ```\n",
    "    \"name\": \"/panorama/app.py\"\n",
    "    ```\n"
   ]
  },
  {
   "cell_type": "code",
   "execution_count": null,
   "id": "4d4773ae",
   "metadata": {},
   "outputs": [],
   "source": [
    "# Confirming the files are correctly editted.\n",
    "\n",
    "source_filename = f\"./{app_name}/packages/{account_id}-{code_package_name}-{code_package_version}/src/app.py\"\n",
    "descriptor_filename = f\"./{app_name}/packages/{account_id}-{code_package_name}-{code_package_version}/descriptor.json\"\n",
    "\n",
    "print(\"Python source file:\", source_filename)\n",
    "print(\"Code descriptor file:\", descriptor_filename)\n",
    "\n",
    "assert os.path.exists(source_filename), f\"Please create {source_filename}.\"\n",
    "\n",
    "with open(descriptor_filename) as fd:\n",
    "    d = json.loads( fd.read() )\n",
    "    assert d[\"runtimeDescriptor\"][\"entry\"][\"name\"] == \"/panorama/app.py\", f\"Please edit {descriptor_filename} properly.\""
   ]
  },
  {
   "cell_type": "markdown",
   "id": "b64fc561",
   "metadata": {},
   "source": [
    "#### Build container image\n",
    "\n",
    "Building docker image and adding it to the code package as the asset. This process takes some time (~ 5 min)\n",
    "\n",
    "Note : Test Utility doesn't use the container image itself, but uses graph information."
   ]
  },
  {
   "cell_type": "code",
   "execution_count": null,
   "id": "d2345f2e",
   "metadata": {},
   "outputs": [],
   "source": [
    "!cd {app_name} && panorama-cli build-container --container-asset-name code --package-path packages/{account_id}-{code_package_name}-{code_package_version}"
   ]
  },
  {
   "cell_type": "markdown",
   "id": "7cc3e085",
   "metadata": {},
   "source": [
    "## Run the Hello World application with \"Test Utility\""
   ]
  },
  {
   "cell_type": "code",
   "execution_count": null,
   "id": "0a8f28ce",
   "metadata": {},
   "outputs": [],
   "source": [
    "%run ../common/test_utility/panorama_test_utility_run.py \\\n",
    "\\\n",
    "--app-name {app_name} \\\n",
    "--code-package-name {code_package_name} \\\n",
    "--py-file {source_filename}\n"
   ]
  },
  {
   "cell_type": "markdown",
   "id": "fec5b714",
   "metadata": {},
   "source": [
    "## Simple video pass-through app"
   ]
  },
  {
   "cell_type": "markdown",
   "id": "b6552d97",
   "metadata": {},
   "source": [
    "<div class=\"alert alert-block alert-warning\"><b>Manual edit needed:</b> edit the application source code</div>\n",
    "\n",
    "1. Edit \"lab1/packages/357984623133-lab1_code-1.0/src/app.py\". You can copy & paste from \"app-v2.py\".\n"
   ]
  },
  {
   "cell_type": "markdown",
   "id": "28cc8b7b",
   "metadata": {},
   "source": [
    "#### Add camera input node and HDMI output node"
   ]
  },
  {
   "cell_type": "code",
   "execution_count": null,
   "id": "ae57c0a2",
   "metadata": {},
   "outputs": [],
   "source": [
    "camera_node_name = f\"{app_name}_camera\"\n",
    "data_sink_node_name = f\"{app_name}_data_sink\""
   ]
  },
  {
   "cell_type": "code",
   "execution_count": null,
   "id": "f1ae0238",
   "metadata": {},
   "outputs": [],
   "source": [
    "!cd {app_name} && panorama-cli add-panorama-package --type camera --name {camera_node_name}"
   ]
  },
  {
   "cell_type": "code",
   "execution_count": null,
   "id": "f42e8ab2",
   "metadata": {},
   "outputs": [],
   "source": [
    "!cd {app_name} && panorama-cli add-panorama-package --type data_sink --name {data_sink_node_name}"
   ]
  },
  {
   "cell_type": "markdown",
   "id": "f195dcfd",
   "metadata": {},
   "source": [
    "#### Manually edit the graph.json and connect nodes\n",
    "\n",
    "1. Open \"lab1/graphs/lab1/graph.json\" by text editor.\n",
    "2. Add edges to connect camera -> code, and code -> hdmi.\n",
    "\n",
    "    ```\n",
    "        \"edges\": [\n",
    "            {\n",
    "                \"producer\": \"lab1_camera.video_out\",\n",
    "                \"consumer\": \"code_node.video_in\"\n",
    "            },\n",
    "            {\n",
    "                \"producer\": \"code_node.video_out\",\n",
    "                \"consumer\": \"lab1_data_sink.video_in\"\n",
    "            }            \n",
    "        ]\n",
    "    ```\n"
   ]
  },
  {
   "cell_type": "markdown",
   "id": "6a357c5b",
   "metadata": {},
   "source": [
    "## Run the Video pass-through application with \"Test Utility\""
   ]
  },
  {
   "cell_type": "code",
   "execution_count": null,
   "id": "23bedd7c",
   "metadata": {},
   "outputs": [],
   "source": [
    "video_filepath = \"../../videos/TownCentreXVID.avi\"\n",
    "\n",
    "%run ../common/test_utility/panorama_test_utility_run.py \\\n",
    "\\\n",
    "--app-name {app_name} \\\n",
    "--code-package-name {code_package_name} \\\n",
    "--py-file {source_filename} \\\n",
    "\\\n",
    "--camera-node-name lab1_camera \\\n",
    "--video-file {video_filepath} \\\n",
    "--video-start 0 \\\n",
    "--video-stop 10 \\\n",
    "--video-step 1 \\\n",
    "\\\n",
    "--output-screenshots ./screenshots/%Y%m%d_%H%M%S"
   ]
  },
  {
   "cell_type": "code",
   "execution_count": null,
   "id": "1c61fb5a",
   "metadata": {},
   "outputs": [],
   "source": [
    "# View latest screenshot image\n",
    "\n",
    "latest_screenshot_dirname = sorted( glob.glob( \"./screenshots/*\" ) )[-1]\n",
    "screenshot_filename = sorted( glob.glob( f\"{latest_screenshot_dirname}/*.png\" ) )[-1]\n",
    "\n",
    "print(screenshot_filename)\n",
    "IPython.display.Image( filename = screenshot_filename )"
   ]
  },
  {
   "cell_type": "markdown",
   "id": "3f35a9a6",
   "metadata": {},
   "source": [
    "## Extend the pass-through application to real Computer Vision application"
   ]
  },
  {
   "cell_type": "markdown",
   "id": "9d2c1ecd",
   "metadata": {},
   "source": [
    "#### Export \"yolo3_mobilenet1.0_coco\" from Gluoncv model zoo"
   ]
  },
  {
   "cell_type": "code",
   "execution_count": null,
   "id": "f2881649",
   "metadata": {},
   "outputs": [],
   "source": [
    "# Initialize model related variables and configurations\n",
    "\n",
    "model_package_name = f\"{app_name}_model\"\n",
    "model_package_version = \"1.0\"\n",
    "\n",
    "people_detection_model_name = \"people_detection_model\""
   ]
  },
  {
   "cell_type": "code",
   "execution_count": null,
   "id": "7a7d061e",
   "metadata": {},
   "outputs": [],
   "source": [
    "def export_model_and_create_targz( prefix, name, model ):\n",
    "    os.makedirs( prefix, exist_ok=True )\n",
    "    gluoncv.utils.export_block( os.path.join( prefix, name ), model, preprocess=False, layout=\"CHW\" )\n",
    "\n",
    "    tar_gz_filename = f\"{prefix}/{name}.tar.gz\"\n",
    "    with tarfile.open( tar_gz_filename, \"w:gz\" ) as tgz:\n",
    "        tgz.add( f\"{prefix}/{name}-symbol.json\", f\"{name}-symbol.json\" )\n",
    "        tgz.add( f\"{prefix}/{name}-0000.params\", f\"{name}-0000.params\" )\n",
    "        \n",
    "    print( f\"Exported : {tar_gz_filename}\" )"
   ]
  },
  {
   "cell_type": "code",
   "execution_count": null,
   "id": "300aac04",
   "metadata": {},
   "outputs": [],
   "source": [
    "# Export object detection model. Reset the classes for human detection only.\n",
    "people_detection_model = gluoncv.model_zoo.get_model('yolo3_mobilenet1.0_coco', pretrained=True)\n",
    "people_detection_model.reset_class([\"person\"], reuse_weights=['person'])\n",
    "export_model_and_create_targz( \"models\", \"yolo3_mobilenet1.0_coco_person\", people_detection_model )\n"
   ]
  },
  {
   "cell_type": "markdown",
   "id": "cdbb9acd",
   "metadata": {},
   "source": [
    "#### Add exported model files in the model package"
   ]
  },
  {
   "cell_type": "code",
   "execution_count": null,
   "id": "51d80417",
   "metadata": {},
   "outputs": [],
   "source": [
    "!cd {app_name} && panorama-cli create-package --name {model_package_name} --type Model --version {code_package_version}"
   ]
  },
  {
   "cell_type": "markdown",
   "id": "859d4238",
   "metadata": {},
   "source": [
    "<div class=\"alert alert-block alert-warning\"><b>Manual edit needed:</b> edit model descriptor file</div>\n",
    "\n",
    "1. Edit \"lab1/packages/{account_id}-lab1_model-1.0/descriptor.py\" with following values:\n",
    "\n",
    "```\n",
    "\"framework\": \"MXNET\",\n",
    "\"inputs\": [\n",
    "    {\n",
    "        \"name\": \"data\",\n",
    "        \"shape\": [\n",
    "            1, 3, 480, 600\n",
    "        ]\n",
    "    }\n",
    "]\n",
    "```\n"
   ]
  },
  {
   "cell_type": "code",
   "execution_count": null,
   "id": "33f4a82c",
   "metadata": {},
   "outputs": [],
   "source": [
    "# Confirming the file is correctly editted.\n",
    "\n",
    "descriptor_filename = f\"./{app_name}/packages/{account_id}-{model_package_name}-{model_package_version}/descriptor.json\"\n",
    "\n",
    "print(\"Model descriptor file:\", descriptor_filename)\n",
    "\n",
    "with open(descriptor_filename) as fd:\n",
    "    d = json.loads( fd.read() )\n",
    "    assert d[\"mlModelDescriptor\"][\"framework\"] == \"MXNET\", f\"Please edit {descriptor_filename} properly.\"\n",
    "    assert d[\"mlModelDescriptor\"][\"inputs\"][0][\"name\"] == \"data\", f\"Please edit {descriptor_filename} properly.\"\n",
    "    assert d[\"mlModelDescriptor\"][\"inputs\"][0][\"shape\"] == [1,3,480,600], f\"Please edit {descriptor_filename} properly.\"\n"
   ]
  },
  {
   "cell_type": "markdown",
   "id": "e3613e6b",
   "metadata": {},
   "source": [
    "#### Add the model in the model package"
   ]
  },
  {
   "cell_type": "code",
   "execution_count": null,
   "id": "c762d4bb",
   "metadata": {},
   "outputs": [],
   "source": [
    "!cd {app_name} && panorama-cli add-raw-model \\\n",
    "    --model-asset-name {people_detection_model_name} \\\n",
    "    --model-local-path ../models/yolo3_mobilenet1.0_coco_person.tar.gz \\\n",
    "    --descriptor-path packages/{account_id}-{model_package_name}-{model_package_version}/descriptor.json \\\n",
    "    --packages-path packages/{account_id}-{model_package_name}-{model_package_version}"
   ]
  },
  {
   "cell_type": "markdown",
   "id": "d28f6db1",
   "metadata": {},
   "source": [
    "#### Compile the model to locally run with Test Utility"
   ]
  },
  {
   "cell_type": "code",
   "execution_count": null,
   "id": "282e2d56",
   "metadata": {},
   "outputs": [],
   "source": [
    "people_detection_model_data_shape = '{\"data\":[1,3,480,600]}'\n",
    "\n",
    "%run ../common/test_utility/panorama_test_utility_compile.py \\\n",
    "\\\n",
    "--s3-model-location s3://{s3_bucket}/panorama-workshop/{app_name} \\\n",
    "\\\n",
    "--model-node-name {people_detection_model_name} \\\n",
    "--model-file-basename ./models/yolo3_mobilenet1.0_coco_person \\\n",
    "--model-data-shape '{people_detection_model_data_shape}' \\\n",
    "--model-framework MXNET"
   ]
  },
  {
   "cell_type": "markdown",
   "id": "bdd9a56a",
   "metadata": {},
   "source": [
    "<div class=\"alert alert-block alert-warning\"><b>Manual edit needed:</b> edit the application source code</div>\n",
    "\n",
    "1. Edit the source code \"lab1/packages/{account_id}-lab1_code-1.0/src/app.py\" referring to \"app-v3.py\":\n"
   ]
  },
  {
   "cell_type": "markdown",
   "id": "60a3a7ba",
   "metadata": {},
   "source": [
    "## Run the People detection application with \"Test Utility\""
   ]
  },
  {
   "cell_type": "code",
   "execution_count": null,
   "id": "83d320b8",
   "metadata": {},
   "outputs": [],
   "source": [
    "video_filepath = \"../../videos/TownCentreXVID.avi\"\n",
    "\n",
    "%run ../common/test_utility/panorama_test_utility_run.py \\\n",
    "\\\n",
    "--app-name {app_name} \\\n",
    "--code-package-name {code_package_name} \\\n",
    "--py-file {source_filename} \\\n",
    "\\\n",
    "--model-package-name {model_package_name} \\\n",
    "--model-node-name {people_detection_model_name} \\\n",
    "--model-file-basename ./models/yolo3_mobilenet1.0_coco_person \\\n",
    "\\\n",
    "--camera-node-name lab1_camera \\\n",
    "\\\n",
    "--video-file {video_filepath} \\\n",
    "--video-start 0 \\\n",
    "--video-stop 10 \\\n",
    "--video-step 1 \\\n",
    "\\\n",
    "--output-screenshots ./screenshots/%Y%m%d_%H%M%S\n"
   ]
  },
  {
   "cell_type": "code",
   "execution_count": null,
   "id": "216eea75",
   "metadata": {},
   "outputs": [],
   "source": [
    "# View latest screenshot image\n",
    "\n",
    "latest_screenshot_dirname = sorted( glob.glob( \"./screenshots/*\" ) )[-1]\n",
    "screenshot_filename = sorted( glob.glob( f\"{latest_screenshot_dirname}/*.png\" ) )[-1]\n",
    "\n",
    "print(screenshot_filename)\n",
    "IPython.display.Image( filename = screenshot_filename )"
   ]
  },
  {
   "cell_type": "markdown",
   "id": "61ea609d",
   "metadata": {},
   "source": [
    "## Deploy the People detection application to your Panorama appliance device"
   ]
  },
  {
   "cell_type": "code",
   "execution_count": null,
   "id": "a82b0610",
   "metadata": {},
   "outputs": [],
   "source": [
    "# Confirming you have provisioned the device with this AWS account\n",
    "\n",
    "panorama_client = boto3.client( \"panorama\" )\n",
    "response = panorama_client.list_devices()\n",
    "\n",
    "assert len(response[\"Devices\"]) > 0, \"No device found. Please provision your device with this AWS account x region.\"\n",
    "assert len(response[\"Devices\"]) == 1, \"More than one device found. Please choose one and delete other devices.\"\n",
    "assert response[\"Devices\"][0][\"ProvisioningStatus\"] == \"SUCCEEDED\", \"The device is not provisioned successfully.\"\n",
    "\n",
    "device_id = response[\"Devices\"][0][\"DeviceId\"]\n",
    "\n",
    "print( \"Device ID :\", device_id )"
   ]
  },
  {
   "cell_type": "markdown",
   "id": "6f5c2a47",
   "metadata": {},
   "source": [
    "<div class=\"alert alert-block alert-warning\"><b>Manual edit needed:</b> edit the Docker file, to package additional libraries.</div>\n",
    "\n",
    "1. Open ./lab1/packages/{account_id}-lab1_code-1.0/Dockerfile with text editor.\n",
    "2. Add following line at the end of the file, and save.\n",
    "    \n",
    "    ```\n",
    "    RUN pip3 install opencv-python boto3\n",
    "    ```\n"
   ]
  },
  {
   "cell_type": "markdown",
   "id": "6b76d20d",
   "metadata": {},
   "source": [
    "#### Build the container image again with latest code"
   ]
  },
  {
   "cell_type": "code",
   "execution_count": null,
   "id": "79924ee6",
   "metadata": {},
   "outputs": [],
   "source": [
    "!cd {app_name} && panorama-cli build-container --container-asset-name code --package-path packages/{account_id}-{code_package_name}-{code_package_version}"
   ]
  },
  {
   "cell_type": "markdown",
   "id": "273d796c",
   "metadata": {},
   "source": [
    "#### Package application (upload locally prepared packages onto Cloud)"
   ]
  },
  {
   "cell_type": "code",
   "execution_count": null,
   "id": "52545e1e",
   "metadata": {},
   "outputs": [],
   "source": [
    "!cd {app_name} && panorama-cli package-application"
   ]
  },
  {
   "cell_type": "markdown",
   "id": "05ea3eaf",
   "metadata": {},
   "source": [
    "## Deploy the application using the AWS Management Console\n",
    "\n",
    "1. Open ./lab1/graphs/lab1/graph.json with Text editor. You will need to copy & paste the contents later.\n",
    "1. Open https://console.aws.amazon.com/panorama/home#deployed-applications\n",
    "1. Click \"Deploy aplication\"\n",
    "1. Follow the instruction. Choose the data source (camera) you registered, and IAM Role \"XYZ\" (FIXME: add Device role in the CF template)\n",
    "1. Wait until the deployment finishes\n",
    "1. Confirm the application status on the Deployed applications becomes \"Running\" status."
   ]
  },
  {
   "cell_type": "markdown",
   "id": "2b7576ae",
   "metadata": {},
   "source": [
    "## Check HDMI output (if you have HDMI display with the Panorama appliance)\n",
    "\n",
    "1. Connect your HDMI display and cable with the Panorama appliance device.\n",
    "2. Confirm that camera image and bounding boxes are visible on the display."
   ]
  },
  {
   "cell_type": "markdown",
   "id": "a3fa3db0",
   "metadata": {},
   "source": [
    "## Check application logs on CloudWatch Logs\n",
    "\n",
    "1. Open https://console.aws.amazon.com/panorama/home#deployed-applications\n",
    "1. Click the deployed application\n",
    "1. Locate the application instance ID (\"UUID\")\n",
    "1. Open https://console.aws.amazon.com/cloudwatch/home#logsV2:log-groups\n",
    "1. Search for a log group which contains the application instance ID, click it.\n",
    "1. Find a log stream \"console_output\", click it.\n",
    "1. Confirm logs from application are visible. "
   ]
  },
  {
   "cell_type": "markdown",
   "id": "7beb2c7e",
   "metadata": {},
   "source": [
    "## Delete the application\n",
    "\n",
    "1. Open https://console.aws.amazon.com/panorama/home#deployed-applications\n",
    "1. Select the application.\n",
    "1. From the \"Actions\" drop-down menu, choose \"Delete from device\"\n",
    "1. Follow the instruction\n",
    "1. Wait until the application disappears from the list."
   ]
  },
  {
   "cell_type": "code",
   "execution_count": null,
   "id": "6892627a",
   "metadata": {},
   "outputs": [],
   "source": []
  }
 ],
 "metadata": {
  "kernelspec": {
   "display_name": "conda_python3",
   "language": "python",
   "name": "conda_python3"
  },
  "language_info": {
   "codemirror_mode": {
    "name": "ipython",
    "version": 3
   },
   "file_extension": ".py",
   "mimetype": "text/x-python",
   "name": "python",
   "nbconvert_exporter": "python",
   "pygments_lexer": "ipython3",
   "version": "3.6.13"
  }
 },
 "nbformat": 4,
 "nbformat_minor": 5
}
