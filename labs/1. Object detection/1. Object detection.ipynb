{
 "cells": [
  {
   "cell_type": "markdown",
   "id": "18bc8f3d",
   "metadata": {},
   "source": [
    "## Overview\n",
    "\n",
    "(drafting)"
   ]
  },
  {
   "cell_type": "markdown",
   "id": "cdf3fabe",
   "metadata": {},
   "source": [
    "## Preparation"
   ]
  },
  {
   "cell_type": "code",
   "execution_count": null,
   "id": "0921bcf9",
   "metadata": {},
   "outputs": [],
   "source": [
    "# Import libraries\n",
    "\n",
    "import sys\n",
    "import os\n",
    "\n",
    "import boto3\n",
    "import sagemaker\n",
    "\n",
    "sys.path.insert( 0, os.path.abspath( \"../common/test_utility\" ) )\n",
    "import panorama_test_utility"
   ]
  },
  {
   "cell_type": "code",
   "execution_count": null,
   "id": "050dbb8a",
   "metadata": {},
   "outputs": [],
   "source": [
    "# Initialize variables and configurations\n",
    "\n",
    "boto3_session = boto3.session.Session()\n",
    "sm_session = sagemaker.Session()\n",
    "\n",
    "account_id = boto3.client(\"sts\").get_caller_identity()[\"Account\"]\n",
    "region = boto3_session.region_name\n",
    "s3_bucket = sm_session.default_bucket()\n",
    "sm_role = sagemaker.get_execution_role()\n",
    "\n",
    "print( \"account_id :\", account_id )\n",
    "print( \"region :\", region )\n",
    "print( \"s3_bucket :\", s3_bucket )\n",
    "print( \"sm_role :\", sm_role )"
   ]
  },
  {
   "cell_type": "code",
   "execution_count": null,
   "id": "e0780d3c",
   "metadata": {},
   "outputs": [],
   "source": [
    "app_name = \"lab1\"\n",
    "code_package_name = f\"{app_name}_code\"\n",
    "code_package_version = \"1.0\""
   ]
  },
  {
   "cell_type": "markdown",
   "id": "e3630d6f",
   "metadata": {},
   "source": [
    "## Create a simplest Panorama application - \"Hello World!\""
   ]
  },
  {
   "cell_type": "code",
   "execution_count": null,
   "id": "052c2cd5",
   "metadata": {},
   "outputs": [],
   "source": [
    "!panorama-cli init-project --name {app_name}"
   ]
  },
  {
   "cell_type": "code",
   "execution_count": null,
   "id": "9ce5f44d",
   "metadata": {},
   "outputs": [],
   "source": [
    "!cd {app_name} && panorama-cli create-package --name {code_package_name} --type Container --version {code_package_version}"
   ]
  },
  {
   "cell_type": "markdown",
   "id": "44a3b12f",
   "metadata": {},
   "source": [
    "#### Manually create/edit application source code, code package descriptor\n",
    "\n",
    "1. Create a Python source code \"lab1/packages/357984623133-lab1_code-1.0/src/app.py\" with following single line of code (You can copy & paste from \"app-v1.py\"):\n",
    "\n",
    "    ```\n",
    "    print(\"Hello World!\")\n",
    "    ```\n",
    "\n",
    "\n",
    "2. Edit \"lab1/packages/357984623133-lab1_code-1.0/descriptor.json\", and replace <entry_file_name_under_src> with \"app.py\"\n",
    "\n",
    "    ```\n",
    "    \"name\": \"/panorama/app.py\"\n",
    "    ```\n"
   ]
  },
  {
   "cell_type": "code",
   "execution_count": null,
   "id": "f716d3f9",
   "metadata": {},
   "outputs": [],
   "source": [
    "source_filename = f\"./{app_name}/packages/{account_id}-{code_package_name}-{code_package_version}/src/app.py\"\n",
    "\n",
    "print(\"Source file:\", source_filename)\n",
    "assert os.path.exists(source_filename)"
   ]
  },
  {
   "cell_type": "markdown",
   "id": "bf36c346",
   "metadata": {},
   "source": [
    "#### Build container image (Test Utility doesn't use the container image itself, but uses graph information)"
   ]
  },
  {
   "cell_type": "code",
   "execution_count": null,
   "id": "bdab8b0e",
   "metadata": {},
   "outputs": [],
   "source": [
    "!cd {app_name} && panorama-cli build-container --container-asset-name code --package-path packages/{account_id}-{code_package_name}-{code_package_version}"
   ]
  },
  {
   "cell_type": "markdown",
   "id": "53ededf5",
   "metadata": {},
   "source": [
    "## Run the Hello World application with \"Test Utility\""
   ]
  },
  {
   "cell_type": "code",
   "execution_count": null,
   "id": "6270f04b",
   "metadata": {},
   "outputs": [],
   "source": [
    "%run ../common/test_utility/panorama_test_utility_run.py \\\n",
    "\\\n",
    "--app-name {app_name} \\\n",
    "--code-package-name {code_package_name} \\\n",
    "--py-file {source_filename}\n"
   ]
  },
  {
   "cell_type": "markdown",
   "id": "d3b31bd4",
   "metadata": {},
   "source": [
    "## Simple video pass-through app"
   ]
  },
  {
   "cell_type": "markdown",
   "id": "dd388af8",
   "metadata": {},
   "source": [
    "#### Manually edit the application source code\n",
    "\n",
    "1. Edit \"lab1/packages/357984623133-lab1_code-1.0/src/app.py\". You can copy & paste from \"app-v2.py\".\n"
   ]
  },
  {
   "cell_type": "markdown",
   "id": "f94f4d9e",
   "metadata": {},
   "source": [
    "#### Add camera input node and HDMI output node"
   ]
  },
  {
   "cell_type": "code",
   "execution_count": null,
   "id": "b5d631dd",
   "metadata": {},
   "outputs": [],
   "source": [
    "camera_node_name = f\"{app_name}_camera\"\n",
    "data_sink_node_name = f\"{app_name}_data_sink\""
   ]
  },
  {
   "cell_type": "code",
   "execution_count": null,
   "id": "8e401c6f",
   "metadata": {},
   "outputs": [],
   "source": [
    "!cd {app_name} && panorama-cli add-panorama-package --type camera --name {camera_node_name}"
   ]
  },
  {
   "cell_type": "code",
   "execution_count": null,
   "id": "63f92e6b",
   "metadata": {},
   "outputs": [],
   "source": [
    "!cd {app_name} && panorama-cli add-panorama-package --type data_sink --name {data_sink_node_name}"
   ]
  },
  {
   "cell_type": "markdown",
   "id": "1778f527",
   "metadata": {},
   "source": [
    "#### Manually edit the graph.json and connect nodes\n",
    "\n",
    "1. Open \"lab1/graphs/lab1/graph.json\" by text editor.\n",
    "2. Add edges to connect camera -> code, and code -> hdmi.\n",
    "\n",
    "    ```\n",
    "        \"edges\": [\n",
    "            {\n",
    "                \"producer\": \"lab1_camera.video_out\",\n",
    "                \"consumer\": \"code_node.video_in\"\n",
    "            },\n",
    "            {\n",
    "                \"producer\": \"code_node.video_out\",\n",
    "                \"consumer\": \"lab1_data_sink.video_in\"\n",
    "            }            \n",
    "        ]\n",
    "    ```\n"
   ]
  },
  {
   "cell_type": "markdown",
   "id": "441d5451",
   "metadata": {},
   "source": [
    "#### Prepare a video file to simulate camera input"
   ]
  },
  {
   "cell_type": "code",
   "execution_count": null,
   "id": "e1d6b678",
   "metadata": {},
   "outputs": [],
   "source": [
    "# !wget xyz\n",
    "\n",
    "os.makedirs( \"videos\", exist_ok=True )\n",
    "!cp ../../../aws-panorama-samples/samples/common/test_utility/videos/TownCentreXVID.avi ./videos/"
   ]
  },
  {
   "cell_type": "markdown",
   "id": "c08f62da",
   "metadata": {},
   "source": [
    "## Run the Video pass-through application with \"Test Utility\""
   ]
  },
  {
   "cell_type": "code",
   "execution_count": null,
   "id": "1841309c",
   "metadata": {},
   "outputs": [],
   "source": [
    "%run ../common/test_utility/panorama_test_utility_run.py \\\n",
    "\\\n",
    "--app-name {app_name} \\\n",
    "--code-package-name {code_package_name} \\\n",
    "--py-file {source_filename} \\\n",
    "\\\n",
    "--camera-node-name lab1_camera \\\n",
    "--video-file ./videos/TownCentreXVID.avi \\\n",
    "--video-start 0 \\\n",
    "--video-stop 10 \\\n",
    "--video-step 1 \\\n",
    "\\\n",
    "--output-screenshots ./screenshots/%Y%m%d_%H%M%S"
   ]
  },
  {
   "cell_type": "markdown",
   "id": "afdec67f",
   "metadata": {},
   "source": [
    "#### Check generated screenshots\n",
    "\n",
    "1. Browse ./screenshots/{date_time} in File browser pane.\n",
    "2. Open one of screenshot file."
   ]
  },
  {
   "cell_type": "markdown",
   "id": "0ae6fef8",
   "metadata": {},
   "source": [
    "## Extend the pass-through application to real Computer Vision application"
   ]
  },
  {
   "cell_type": "markdown",
   "id": "f164e30d",
   "metadata": {},
   "source": [
    "#### Export \"yolo3_mobilenet1.0_coco\" from Gluoncv model zoo"
   ]
  },
  {
   "cell_type": "code",
   "execution_count": null,
   "id": "3e0687c3",
   "metadata": {},
   "outputs": [],
   "source": [
    "import gluoncv\n",
    "import tarfile"
   ]
  },
  {
   "cell_type": "code",
   "execution_count": null,
   "id": "777aaa78",
   "metadata": {},
   "outputs": [],
   "source": [
    "# Initialize model related variables and configurations\n",
    "\n",
    "model_package_name = f\"{app_name}_model\"\n",
    "model_package_version = \"1.0\"\n",
    "\n",
    "people_detection_model_name = \"people_detection_model\""
   ]
  },
  {
   "cell_type": "code",
   "execution_count": null,
   "id": "b4bb17ed",
   "metadata": {},
   "outputs": [],
   "source": [
    "def export_model_and_create_targz( prefix, name, model ):\n",
    "    os.makedirs( prefix, exist_ok=True )\n",
    "    gluoncv.utils.export_block( os.path.join( prefix, name ), model, preprocess=False, layout=\"CHW\" )\n",
    "\n",
    "    tar_gz_filename = f\"{prefix}/{name}.tar.gz\"\n",
    "    with tarfile.open( tar_gz_filename, \"w:gz\" ) as tgz:\n",
    "        tgz.add( f\"{prefix}/{name}-symbol.json\", f\"{name}-symbol.json\" )\n",
    "        tgz.add( f\"{prefix}/{name}-0000.params\", f\"{name}-0000.params\" )\n",
    "        \n",
    "    print( f\"Exported : {tar_gz_filename}\" )"
   ]
  },
  {
   "cell_type": "code",
   "execution_count": null,
   "id": "cfe9c0a7",
   "metadata": {},
   "outputs": [],
   "source": [
    "# Export object detection model. Reset the classes for human detection only.\n",
    "people_detection_model = gluoncv.model_zoo.get_model('yolo3_mobilenet1.0_coco', pretrained=True)\n",
    "people_detection_model.reset_class([\"person\"], reuse_weights=['person'])\n",
    "export_model_and_create_targz( \"models\", \"yolo3_mobilenet1.0_coco_person\", people_detection_model )\n"
   ]
  },
  {
   "cell_type": "markdown",
   "id": "817789d5",
   "metadata": {},
   "source": [
    "#### Add exported model files in the model package"
   ]
  },
  {
   "cell_type": "code",
   "execution_count": null,
   "id": "1c94856d",
   "metadata": {},
   "outputs": [],
   "source": [
    "!cd {app_name} && panorama-cli create-package --name {model_package_name} --type Model --version {code_package_version}"
   ]
  },
  {
   "cell_type": "markdown",
   "id": "3ef62437",
   "metadata": {},
   "source": [
    "#### Manually edit model descriptor file\n",
    "\n",
    "Edit \"lab1/packages/357984623133-lab1_model-1.0/descriptor.py\" with following values:\n",
    "\n",
    "```\n",
    "\"framework\": \"MXNET\",\n",
    "\"inputs\": [\n",
    "    {\n",
    "        \"name\": \"data\",\n",
    "        \"shape\": [\n",
    "            1, 3, 480, 600\n",
    "        ]\n",
    "    }\n",
    "]\n",
    "```\n"
   ]
  },
  {
   "cell_type": "markdown",
   "id": "c22ffd03",
   "metadata": {},
   "source": [
    "#### Add the model in the model package"
   ]
  },
  {
   "cell_type": "code",
   "execution_count": null,
   "id": "bddf7d37",
   "metadata": {},
   "outputs": [],
   "source": [
    "!cd {app_name} && panorama-cli add-raw-model \\\n",
    "    --model-asset-name {people_detection_model_name} \\\n",
    "    --model-local-path ../models/yolo3_mobilenet1.0_coco_person.tar.gz \\\n",
    "    --descriptor-path packages/{account_id}-{model_package_name}-{model_package_version}/descriptor.json \\\n",
    "    --packages-path packages/{account_id}-{model_package_name}-{model_package_version}"
   ]
  },
  {
   "cell_type": "markdown",
   "id": "afc34932",
   "metadata": {},
   "source": [
    "#### Compile the model to locally run with Test Utility"
   ]
  },
  {
   "cell_type": "code",
   "execution_count": null,
   "id": "6b299422",
   "metadata": {},
   "outputs": [],
   "source": [
    "people_detection_model_data_shape = '{\"data\":[1,3,480,600]}'\n",
    "\n",
    "%run ../common/test_utility/panorama_test_utility_compile.py \\\n",
    "\\\n",
    "--s3-model-location s3://{s3_bucket}/panorama-workshop/{app_name} \\\n",
    "\\\n",
    "--model-node-name {people_detection_model_name} \\\n",
    "--model-file-basename ./models/yolo3_mobilenet1.0_coco_person \\\n",
    "--model-data-shape '{people_detection_model_data_shape}' \\\n",
    "--model-framework MXNET"
   ]
  },
  {
   "cell_type": "markdown",
   "id": "9c05ffbe",
   "metadata": {},
   "source": [
    "#### Manually edit the application source code\n",
    "\n",
    "1. Edit the source code \"lab1/packages/357984623133-lab1_code-1.0/src/app.py\" referring to \"app-v3.py\":\n"
   ]
  },
  {
   "cell_type": "markdown",
   "id": "b20d4628",
   "metadata": {},
   "source": [
    "## Run the People detection application with \"Test Utility\""
   ]
  },
  {
   "cell_type": "code",
   "execution_count": null,
   "id": "26e9d79a",
   "metadata": {},
   "outputs": [],
   "source": [
    "video_filepath = \"videos/TownCentreXVID.avi\"\n",
    "\n",
    "%run ../common/test_utility/panorama_test_utility_run.py \\\n",
    "\\\n",
    "--app-name {app_name} \\\n",
    "--code-package-name {code_package_name} \\\n",
    "--py-file {source_filename} \\\n",
    "\\\n",
    "--model-package-name {model_package_name} \\\n",
    "--model-node-name {people_detection_model_name} \\\n",
    "--model-file-basename ./models/yolo3_mobilenet1.0_coco_person \\\n",
    "\\\n",
    "--camera-node-name lab1_camera \\\n",
    "\\\n",
    "--video-file ./videos/TownCentreXVID.avi \\\n",
    "--video-start 0 \\\n",
    "--video-stop 10 \\\n",
    "--video-step 1 \\\n",
    "\\\n",
    "--output-screenshots ./screenshots/%Y%m%d_%H%M%S\n"
   ]
  },
  {
   "cell_type": "code",
   "execution_count": null,
   "id": "e1b3d81e",
   "metadata": {},
   "outputs": [],
   "source": []
  },
  {
   "cell_type": "code",
   "execution_count": null,
   "id": "2321821d",
   "metadata": {},
   "outputs": [],
   "source": []
  }
 ],
 "metadata": {
  "kernelspec": {
   "display_name": "conda_python3",
   "language": "python",
   "name": "conda_python3"
  },
  "language_info": {
   "codemirror_mode": {
    "name": "ipython",
    "version": 3
   },
   "file_extension": ".py",
   "mimetype": "text/x-python",
   "name": "python",
   "nbconvert_exporter": "python",
   "pygments_lexer": "ipython3",
   "version": "3.6.13"
  }
 },
 "nbformat": 4,
 "nbformat_minor": 5
}
